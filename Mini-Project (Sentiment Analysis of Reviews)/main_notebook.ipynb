{
 "cells": [
  {
   "cell_type": "markdown",
   "id": "2302ca20",
   "metadata": {},
   "source": [
    "<p align=\"center\"><h1><font color = \"green\">Mini Pet-project #2 by Nikolay Luzhynski</font></h1></p>\n",
    "<h2>Sentiment Analysis of IMDB Movie Reviews</h2>\n",
    "</br>\n",
    "<hr/>\n",
    "<h4><b><i>Цель проекта:</i></b></h4> <i>Бинарная классификация рецензий по фильму: позитивная/негативная</i>\n",
    "<h4><b><i>Входные данные:</i></b></h4> <i>Данные были взяты из открытого соревнования на <a href = \"https://www.kaggle.com/lakshmi25npathi/imdb-dataset-of-50k-movie-reviews\" target=\"_blank\">Kaggle</a></i>\n",
    "    <h4><b><i>Используемые модели:</i></b></h4><i>LogisticRegression, SGDClassifier, LinearSVC\n",
    "</i>\n",
    "<h4><b><i>Метрики качества модели:</i></b></h4><i>accuracy score</i>\n",
    "<h4><b><i>Итоги:</i></b></h4>\n",
    "    <i>Получилось построить модель,которая на тестовой выборке показывает 90% точность бинарной классификации рецензий.</i></br>\n",
    "     <i>Также в рабочей бумаге были рассмотрены иные методы векторизации данных: TF-IDF и HashingVectorizer.</i>"
   ]
  },
  {
   "cell_type": "markdown",
   "id": "a461da7e",
   "metadata": {},
   "source": [
    "<h2>Содержание</h2>"
   ]
  },
  {
   "cell_type": "markdown",
   "id": "b34ad084",
   "metadata": {},
   "source": [
    "[1.Импорт библиотек и данных](#1_1)"
   ]
  },
  {
   "cell_type": "markdown",
   "id": "0e67a9d0",
   "metadata": {},
   "source": [
    "[2.Обработка данных](#2_1)"
   ]
  },
  {
   "cell_type": "markdown",
   "id": "6fa80f22",
   "metadata": {},
   "source": [
    "[3.Обучение данных](#3_1)"
   ]
  },
  {
   "cell_type": "markdown",
   "id": "0a63b43b",
   "metadata": {},
   "source": [
    "[4. TF-IDF](#5_1)"
   ]
  },
  {
   "cell_type": "markdown",
   "id": "c97adb4e",
   "metadata": {},
   "source": [
    "[5. HashingVectorizer](#6_1)"
   ]
  },
  {
   "cell_type": "markdown",
   "id": "7fa8bc82",
   "metadata": {},
   "source": [
    "<a id='1_1'><h2>1.1 Импорт библиотек</h2></a>"
   ]
  },
  {
   "cell_type": "code",
   "execution_count": 56,
   "id": "8ad4c832",
   "metadata": {},
   "outputs": [],
   "source": [
    "# основные библиотеки\n",
    "import os\n",
    "import pandas as pd\n",
    "import numpy as np\n",
    "\n",
    "# для визуализации данных\n",
    "import matplotlib.pyplot as plt\n",
    "import seaborn as sns\n",
    "%matplotlib inline\n",
    "\n",
    "# для обработки данных и удаления стоп-слов\n",
    "import nltk \n",
    "#nltk.download('stopwords')\n",
    "from nltk.corpus import stopwords\n",
    "\n",
    "# для работы с регулярными выражениями\n",
    "import re\n",
    "\n",
    "# необходимые модели и метрики\n",
    "from sklearn.feature_extraction.text import CountVectorizer, TfidfVectorizer\n",
    "from sklearn.model_selection import train_test_split, GridSearchCV, StratifiedKFold\n",
    "from sklearn.linear_model import LogisticRegression, SGDClassifier\n",
    "from sklearn.metrics import (accuracy_score, auc, roc_curve)\n",
    "from sklearn.svm import LinearSVC, SVC\n",
    "from sklearn.pipeline import make_pipeline\n",
    "from sklearn.feature_extraction.text import HashingVectorizer\n",
    "\n",
    "# отключаем предупреждения\n",
    "import warnings\n",
    "warnings.filterwarnings(\"ignore\")\n",
    "\n",
    "RAND = 8"
   ]
  },
  {
   "cell_type": "markdown",
   "id": "7dedb2c4",
   "metadata": {},
   "source": [
    "<a id='1_2'><h2>1.2 Импорт данных</h2></a>"
   ]
  },
  {
   "cell_type": "code",
   "execution_count": 7,
   "id": "f48ae9a2",
   "metadata": {},
   "outputs": [],
   "source": [
    "PATH_TO_DATA = 'dataset/' # искомая папка с данными"
   ]
  },
  {
   "cell_type": "code",
   "execution_count": 8,
   "id": "56873c64",
   "metadata": {},
   "outputs": [
    {
     "name": "stdout",
     "output_type": "stream",
     "text": [
      "IMDB Dataset.csv\r\n"
     ]
    }
   ],
   "source": [
    "ls dataset "
   ]
  },
  {
   "cell_type": "code",
   "execution_count": 9,
   "id": "876b80e6",
   "metadata": {},
   "outputs": [],
   "source": [
    "df = pd.read_csv(os.path.join(PATH_TO_DATA,'IMDB Dataset.csv'))"
   ]
  },
  {
   "cell_type": "code",
   "execution_count": 10,
   "id": "54eebc1c",
   "metadata": {},
   "outputs": [
    {
     "data": {
      "text/html": [
       "<div>\n",
       "<style scoped>\n",
       "    .dataframe tbody tr th:only-of-type {\n",
       "        vertical-align: middle;\n",
       "    }\n",
       "\n",
       "    .dataframe tbody tr th {\n",
       "        vertical-align: top;\n",
       "    }\n",
       "\n",
       "    .dataframe thead th {\n",
       "        text-align: right;\n",
       "    }\n",
       "</style>\n",
       "<table border=\"1\" class=\"dataframe\">\n",
       "  <thead>\n",
       "    <tr style=\"text-align: right;\">\n",
       "      <th></th>\n",
       "      <th>review</th>\n",
       "      <th>sentiment</th>\n",
       "    </tr>\n",
       "  </thead>\n",
       "  <tbody>\n",
       "    <tr>\n",
       "      <th>0</th>\n",
       "      <td>One of the other reviewers has mentioned that ...</td>\n",
       "      <td>positive</td>\n",
       "    </tr>\n",
       "    <tr>\n",
       "      <th>1</th>\n",
       "      <td>A wonderful little production. &lt;br /&gt;&lt;br /&gt;The...</td>\n",
       "      <td>positive</td>\n",
       "    </tr>\n",
       "    <tr>\n",
       "      <th>2</th>\n",
       "      <td>I thought this was a wonderful way to spend ti...</td>\n",
       "      <td>positive</td>\n",
       "    </tr>\n",
       "    <tr>\n",
       "      <th>3</th>\n",
       "      <td>Basically there's a family where a little boy ...</td>\n",
       "      <td>negative</td>\n",
       "    </tr>\n",
       "    <tr>\n",
       "      <th>4</th>\n",
       "      <td>Petter Mattei's \"Love in the Time of Money\" is...</td>\n",
       "      <td>positive</td>\n",
       "    </tr>\n",
       "  </tbody>\n",
       "</table>\n",
       "</div>"
      ],
      "text/plain": [
       "                                              review sentiment\n",
       "0  One of the other reviewers has mentioned that ...  positive\n",
       "1  A wonderful little production. <br /><br />The...  positive\n",
       "2  I thought this was a wonderful way to spend ti...  positive\n",
       "3  Basically there's a family where a little boy ...  negative\n",
       "4  Petter Mattei's \"Love in the Time of Money\" is...  positive"
      ]
     },
     "execution_count": 10,
     "metadata": {},
     "output_type": "execute_result"
    }
   ],
   "source": [
    "df.head()"
   ]
  },
  {
   "cell_type": "markdown",
   "id": "68f368e3",
   "metadata": {},
   "source": [
    "<a id='2_1'><h2>2. Обработка данных</h2></a>"
   ]
  },
  {
   "cell_type": "code",
   "execution_count": 11,
   "id": "fc57c953",
   "metadata": {},
   "outputs": [
    {
     "data": {
      "text/plain": [
       "(50000, 2)"
      ]
     },
     "execution_count": 11,
     "metadata": {},
     "output_type": "execute_result"
    }
   ],
   "source": [
    "df.shape"
   ]
  },
  {
   "cell_type": "code",
   "execution_count": 12,
   "id": "4a4f5e1c",
   "metadata": {},
   "outputs": [
    {
     "data": {
      "text/plain": [
       "review       0\n",
       "sentiment    0\n",
       "dtype: int64"
      ]
     },
     "execution_count": 12,
     "metadata": {},
     "output_type": "execute_result"
    }
   ],
   "source": [
    "df.isna().sum()"
   ]
  },
  {
   "cell_type": "code",
   "execution_count": 13,
   "id": "a6025a54",
   "metadata": {},
   "outputs": [
    {
     "data": {
      "text/plain": [
       "positive    25000\n",
       "negative    25000\n",
       "Name: sentiment, dtype: int64"
      ]
     },
     "execution_count": 13,
     "metadata": {},
     "output_type": "execute_result"
    }
   ],
   "source": [
    "df['sentiment'].value_counts() # смотрим на распределение целевой переменной"
   ]
  },
  {
   "cell_type": "code",
   "execution_count": 14,
   "id": "01e37d03",
   "metadata": {},
   "outputs": [
    {
     "name": "stdout",
     "output_type": "stream",
     "text": [
      "<class 'pandas.core.frame.DataFrame'>\n",
      "RangeIndex: 50000 entries, 0 to 49999\n",
      "Data columns (total 2 columns):\n",
      " #   Column     Non-Null Count  Dtype \n",
      "---  ------     --------------  ----- \n",
      " 0   review     50000 non-null  object\n",
      " 1   sentiment  50000 non-null  object\n",
      "dtypes: object(2)\n",
      "memory usage: 781.4+ KB\n"
     ]
    }
   ],
   "source": [
    "df.info()"
   ]
  },
  {
   "cell_type": "code",
   "execution_count": 15,
   "id": "9ac317e1",
   "metadata": {},
   "outputs": [],
   "source": [
    "# приведем целевую переменную к бинарной класификации\n",
    "# 1 - positive review\n",
    "# 0 - negative review\n",
    "df['sentiment'] = df['sentiment'].map({'positive':1,'negative':0})"
   ]
  },
  {
   "cell_type": "code",
   "execution_count": 16,
   "id": "f2e29cbd",
   "metadata": {},
   "outputs": [
    {
     "data": {
      "text/html": [
       "<div>\n",
       "<style scoped>\n",
       "    .dataframe tbody tr th:only-of-type {\n",
       "        vertical-align: middle;\n",
       "    }\n",
       "\n",
       "    .dataframe tbody tr th {\n",
       "        vertical-align: top;\n",
       "    }\n",
       "\n",
       "    .dataframe thead th {\n",
       "        text-align: right;\n",
       "    }\n",
       "</style>\n",
       "<table border=\"1\" class=\"dataframe\">\n",
       "  <thead>\n",
       "    <tr style=\"text-align: right;\">\n",
       "      <th></th>\n",
       "      <th>review</th>\n",
       "      <th>sentiment</th>\n",
       "    </tr>\n",
       "  </thead>\n",
       "  <tbody>\n",
       "    <tr>\n",
       "      <th>0</th>\n",
       "      <td>One of the other reviewers has mentioned that ...</td>\n",
       "      <td>1</td>\n",
       "    </tr>\n",
       "    <tr>\n",
       "      <th>1</th>\n",
       "      <td>A wonderful little production. &lt;br /&gt;&lt;br /&gt;The...</td>\n",
       "      <td>1</td>\n",
       "    </tr>\n",
       "    <tr>\n",
       "      <th>2</th>\n",
       "      <td>I thought this was a wonderful way to spend ti...</td>\n",
       "      <td>1</td>\n",
       "    </tr>\n",
       "    <tr>\n",
       "      <th>3</th>\n",
       "      <td>Basically there's a family where a little boy ...</td>\n",
       "      <td>0</td>\n",
       "    </tr>\n",
       "    <tr>\n",
       "      <th>4</th>\n",
       "      <td>Petter Mattei's \"Love in the Time of Money\" is...</td>\n",
       "      <td>1</td>\n",
       "    </tr>\n",
       "  </tbody>\n",
       "</table>\n",
       "</div>"
      ],
      "text/plain": [
       "                                              review  sentiment\n",
       "0  One of the other reviewers has mentioned that ...          1\n",
       "1  A wonderful little production. <br /><br />The...          1\n",
       "2  I thought this was a wonderful way to spend ti...          1\n",
       "3  Basically there's a family where a little boy ...          0\n",
       "4  Petter Mattei's \"Love in the Time of Money\" is...          1"
      ]
     },
     "execution_count": 16,
     "metadata": {},
     "output_type": "execute_result"
    }
   ],
   "source": [
    "df.head()"
   ]
  },
  {
   "cell_type": "code",
   "execution_count": 17,
   "id": "849e6024",
   "metadata": {},
   "outputs": [
    {
     "data": {
      "text/plain": [
       "\"One of the other reviewers has mentioned that after watching just 1 Oz episode you'll be hooked. They are right, as this is exactly what happened with me.<br /><br />The first thing that struck me about Oz was its brutality and unflinching scenes of violence, which set in right from the word GO. Trust me, this is not a show for the faint hearted or timid. This show pulls no punches with regards to drugs, sex or violence. Its is hardcore, in the classic use of the word.<br /><br />It is called OZ as that is the nickname given to the Oswald Maximum Security State Penitentary. It focuses mainly on Emerald City, an experimental section of the prison where all the cells have glass fronts and face inwards, so privacy is not high on the agenda. Em City is home to many..Aryans, Muslims, gangstas, Latinos, Christians, Italians, Irish and more....so scuffles, death stares, dodgy dealings and shady agreements are never far away.<br /><br />I would say the main appeal of the show is due to the fact that it goes where other shows wouldn't dare. Forget pretty pictures painted for mainstream audiences, forget charm, forget romance...OZ doesn't mess around. The first episode I ever saw struck me as so nasty it was surreal, I couldn't say I was ready for it, but as I watched more, I developed a taste for Oz, and got accustomed to the high levels of graphic violence. Not just violence, but injustice (crooked guards who'll be sold out for a nickel, inmates who'll kill on order and get away with it, well mannered, middle class inmates being turned into prison bitches due to their lack of street skills or prison experience) Watching Oz, you may become comfortable with what is uncomfortable viewing....thats if you can get in touch with your darker side.\""
      ]
     },
     "execution_count": 17,
     "metadata": {},
     "output_type": "execute_result"
    }
   ],
   "source": [
    "df.loc[0,'review'] # посмотрим на 1-ый отзыв"
   ]
  },
  {
   "cell_type": "markdown",
   "id": "af66ff60",
   "metadata": {},
   "source": [
    "<h3>Почистим отзывы от мусора, HTML-тегов, приведем к единой раскладке </h3>"
   ]
  },
  {
   "cell_type": "code",
   "execution_count": 18,
   "id": "597e4873",
   "metadata": {},
   "outputs": [],
   "source": [
    "df['review'] = df['review'].apply(lambda x: re.sub(r'\\<[^>]*\\>', '', x))\n",
    "df['review'] = df['review'].apply(lambda x: re.sub('[,\\.!?:()\"]', '', x))\n",
    "df['review'] = df['review'].apply(lambda x: re.sub('[^a-zA-Z\"]', ' ', x))\n",
    "df['review'] = df['review'].apply(lambda x: x.lower())\n",
    "df['review'] = df['review'].apply(lambda x: x.strip())"
   ]
  },
  {
   "cell_type": "code",
   "execution_count": 19,
   "id": "e00facfe",
   "metadata": {},
   "outputs": [],
   "source": [
    "# создаем токенизатор и загружаем стоп-слова\n",
    "WPT = nltk.WordPunctTokenizer()\n",
    "stop_word_list = nltk.corpus.stopwords.words('english')"
   ]
  },
  {
   "cell_type": "code",
   "execution_count": 20,
   "id": "87e3780e",
   "metadata": {},
   "outputs": [],
   "source": [
    "def token(values):\n",
    "    words = nltk.tokenize.word_tokenize(values)\n",
    "    filtered_words = [word for word in words if word not in set(stopwords.words(\"english\"))]\n",
    "    not_stopword_doc = \" \".join(filtered_words)\n",
    "    return not_stopword_doc"
   ]
  },
  {
   "cell_type": "code",
   "execution_count": 21,
   "id": "3af6919d",
   "metadata": {},
   "outputs": [
    {
     "name": "stdout",
     "output_type": "stream",
     "text": [
      "CPU times: user 1 µs, sys: 0 ns, total: 1 µs\n",
      "Wall time: 3.1 µs\n"
     ]
    }
   ],
   "source": [
    "%%time\n",
    "#df['review'] = df['review'].apply(lambda x: token(x))"
   ]
  },
  {
   "cell_type": "code",
   "execution_count": 22,
   "id": "85b4215c",
   "metadata": {},
   "outputs": [
    {
     "data": {
      "text/html": [
       "<div>\n",
       "<style scoped>\n",
       "    .dataframe tbody tr th:only-of-type {\n",
       "        vertical-align: middle;\n",
       "    }\n",
       "\n",
       "    .dataframe tbody tr th {\n",
       "        vertical-align: top;\n",
       "    }\n",
       "\n",
       "    .dataframe thead th {\n",
       "        text-align: right;\n",
       "    }\n",
       "</style>\n",
       "<table border=\"1\" class=\"dataframe\">\n",
       "  <thead>\n",
       "    <tr style=\"text-align: right;\">\n",
       "      <th></th>\n",
       "      <th>review</th>\n",
       "      <th>sentiment</th>\n",
       "    </tr>\n",
       "  </thead>\n",
       "  <tbody>\n",
       "    <tr>\n",
       "      <th>0</th>\n",
       "      <td>one of the other reviewers has mentioned that ...</td>\n",
       "      <td>1</td>\n",
       "    </tr>\n",
       "    <tr>\n",
       "      <th>1</th>\n",
       "      <td>a wonderful little production the filming tech...</td>\n",
       "      <td>1</td>\n",
       "    </tr>\n",
       "    <tr>\n",
       "      <th>2</th>\n",
       "      <td>i thought this was a wonderful way to spend ti...</td>\n",
       "      <td>1</td>\n",
       "    </tr>\n",
       "    <tr>\n",
       "      <th>3</th>\n",
       "      <td>basically there s a family where a little boy ...</td>\n",
       "      <td>0</td>\n",
       "    </tr>\n",
       "    <tr>\n",
       "      <th>4</th>\n",
       "      <td>petter mattei s love in the time of money is a...</td>\n",
       "      <td>1</td>\n",
       "    </tr>\n",
       "  </tbody>\n",
       "</table>\n",
       "</div>"
      ],
      "text/plain": [
       "                                              review  sentiment\n",
       "0  one of the other reviewers has mentioned that ...          1\n",
       "1  a wonderful little production the filming tech...          1\n",
       "2  i thought this was a wonderful way to spend ti...          1\n",
       "3  basically there s a family where a little boy ...          0\n",
       "4  petter mattei s love in the time of money is a...          1"
      ]
     },
     "execution_count": 22,
     "metadata": {},
     "output_type": "execute_result"
    }
   ],
   "source": [
    "df.head()"
   ]
  },
  {
   "cell_type": "code",
   "execution_count": 23,
   "id": "1f3df9c3",
   "metadata": {},
   "outputs": [],
   "source": [
    "df = pd.read_csv(PATH_TO_DATA + 'Processed_df.csv')"
   ]
  },
  {
   "cell_type": "code",
   "execution_count": 24,
   "id": "89e3147d",
   "metadata": {},
   "outputs": [
    {
     "data": {
      "text/plain": [
       "(50000, 2)"
      ]
     },
     "execution_count": 24,
     "metadata": {},
     "output_type": "execute_result"
    }
   ],
   "source": [
    "df.shape"
   ]
  },
  {
   "cell_type": "code",
   "execution_count": 25,
   "id": "75ec5112",
   "metadata": {},
   "outputs": [
    {
     "data": {
      "text/plain": [
       "'one reviewers mentioned watching oz episode hooked right exactly happened methe first thing struck oz brutality unflinching scenes violence set right word go trust show faint hearted timid show pulls punches regards drugs sex violence hardcore classic use wordit called oz nickname given oswald maximum security state penitentary focuses mainly emerald city experimental section prison cells glass fronts face inwards privacy high agenda em city home manyaryans muslims gangstas latinos christians italians irish moreso scuffles death stares dodgy dealings shady agreements never far awayi would say main appeal show due fact goes shows dare forget pretty pictures painted mainstream audiences forget charm forget romanceoz mess around first episode ever saw struck nasty surreal say ready watched developed taste oz got accustomed high levels graphic violence violence injustice crooked guards sold nickel inmates kill order get away well mannered middle class inmates turned prison bitches due lack street skills prison experience watching oz may become comfortable uncomfortable viewingthats get touch darker side'"
      ]
     },
     "execution_count": 25,
     "metadata": {},
     "output_type": "execute_result"
    }
   ],
   "source": [
    "df.loc[0,'review'] # посмотрим на обработанный отзыв"
   ]
  },
  {
   "cell_type": "markdown",
   "id": "b443322e",
   "metadata": {},
   "source": [
    "<a id='3_1'><h2>3. Обучение моделей</h2></a>"
   ]
  },
  {
   "cell_type": "code",
   "execution_count": 26,
   "id": "0603e8a7",
   "metadata": {},
   "outputs": [],
   "source": [
    "# разбиваем выборку на тренировочную и тестовую в пропорции 80/20\n",
    "X_train, X_test, y_train, y_test = train_test_split(df['review'], df['sentiment'], \n",
    "                                                    test_size = 0.2, random_state=RAND)"
   ]
  },
  {
   "cell_type": "markdown",
   "id": "0cee0a45",
   "metadata": {},
   "source": [
    "<h4>Предобработаем даннные при помощи \"Мешка слов\"</h4>"
   ]
  },
  {
   "cell_type": "code",
   "execution_count": 27,
   "id": "bfb14c14",
   "metadata": {},
   "outputs": [
    {
     "name": "stdout",
     "output_type": "stream",
     "text": [
      "CPU times: user 13.3 s, sys: 513 ms, total: 13.8 s\n",
      "Wall time: 14 s\n"
     ]
    }
   ],
   "source": [
    "%%time\n",
    "cv = CountVectorizer(ngram_range=(1,2))\n",
    "X_train_sparse = cv.fit_transform(X_train) # обучим и сразу трансформируем тестовую выборку\n",
    "X_test_sparse = cv.transform(X_test) # посколько модель была обучена, только трансформируем, чтобы сохранить размерность"
   ]
  },
  {
   "cell_type": "code",
   "execution_count": 28,
   "id": "1593eb43",
   "metadata": {},
   "outputs": [
    {
     "data": {
      "text/plain": [
       "((40000, 2811294), (10000, 2811294))"
      ]
     },
     "execution_count": 28,
     "metadata": {},
     "output_type": "execute_result"
    }
   ],
   "source": [
    "X_train_sparse.shape, X_test_sparse.shape"
   ]
  },
  {
   "cell_type": "markdown",
   "id": "9e2eb672",
   "metadata": {},
   "source": [
    "<h4>Попробуем обучить логистическую регрессию и посмотрим на accuracy score на отложенной выборке</h4>"
   ]
  },
  {
   "cell_type": "code",
   "execution_count": 29,
   "id": "6a80dcd0",
   "metadata": {},
   "outputs": [],
   "source": [
    "logit = LogisticRegression(random_state=RAND, n_jobs=-1)"
   ]
  },
  {
   "cell_type": "code",
   "execution_count": 30,
   "id": "063948e1",
   "metadata": {},
   "outputs": [
    {
     "name": "stdout",
     "output_type": "stream",
     "text": [
      "CPU times: user 493 ms, sys: 236 ms, total: 729 ms\n",
      "Wall time: 26.7 s\n"
     ]
    },
    {
     "data": {
      "text/plain": [
       "LogisticRegression(n_jobs=-1, random_state=8)"
      ]
     },
     "execution_count": 30,
     "metadata": {},
     "output_type": "execute_result"
    }
   ],
   "source": [
    "%%time\n",
    "logit.fit(X_train_sparse, y_train)"
   ]
  },
  {
   "cell_type": "code",
   "execution_count": 31,
   "id": "9c67fa4b",
   "metadata": {
    "scrolled": true
   },
   "outputs": [
    {
     "data": {
      "text/plain": [
       "0.9008"
      ]
     },
     "execution_count": 31,
     "metadata": {},
     "output_type": "execute_result"
    }
   ],
   "source": [
    "accuracy_score(y_test, logit.predict(X_test_sparse))"
   ]
  },
  {
   "cell_type": "code",
   "execution_count": 32,
   "id": "04d3d9cb",
   "metadata": {},
   "outputs": [
    {
     "data": {
      "image/png": "[encoded data removed]",
      "text/plain": [
       "<Figure size 432x288 with 1 Axes>"
      ]
     },
     "metadata": {
      "needs_background": "light"
     },
     "output_type": "display_data"
    }
   ],
   "source": [
    "# рассчитываем roc-кривую\n",
    "fpr, tpr, treshold = roc_curve(y_test, logit.predict_proba(X_test_sparse)[:,1])\n",
    "roc_auc = auc(fpr, tpr)\n",
    "# строим график\n",
    "plt.plot(fpr, tpr, color='darkorange',\n",
    "         label='ROC кривая (area = %0.2f)' % roc_auc)\n",
    "plt.plot([0, 1], [0, 1], color='navy', linestyle='--')\n",
    "plt.xlim([0.0, 1.0])\n",
    "plt.ylim([0.0, 1.05])\n",
    "\n",
    "plt.xlabel('False Positive Rate')\n",
    "plt.ylabel('True Positive Rate')\n",
    "\n",
    "plt.title('Logistic Regression ROC AUC = %0.3f' % roc_auc)\n",
    "plt.legend(loc=\"lower right\")\n",
    "plt.show()"
   ]
  },
  {
   "cell_type": "code",
   "execution_count": 33,
   "id": "fbe3f7fb",
   "metadata": {},
   "outputs": [
    {
     "data": {
      "image/png": "[encoded data removed]",
      "text/plain": [
       "<Figure size 432x288 with 1 Axes>"
      ]
     },
     "metadata": {
      "needs_background": "light"
     },
     "output_type": "display_data"
    }
   ],
   "source": [
    "# Посмотрим на матрицу ошибок\n",
    "matrix = pd.crosstab(y_test, logit.predict(X_test_sparse), rownames=['predicted'], colnames=['actual'])\n",
    "sns.heatmap(matrix, annot = True, fmt='.5g', cbar=False);"
   ]
  },
  {
   "cell_type": "code",
   "execution_count": 34,
   "id": "8772cc8c",
   "metadata": {},
   "outputs": [],
   "source": [
    "# Создадим ДФ, куда будем заносить результаты по разным моделям\n",
    "metrics = pd.DataFrame(\n",
    "            index = ['accuracy'])\n",
    "metrics['Logit'] = [accuracy_score(y_test, logit.predict(X_test_sparse))]"
   ]
  },
  {
   "cell_type": "code",
   "execution_count": 35,
   "id": "8f6a68f0",
   "metadata": {},
   "outputs": [
    {
     "data": {
      "text/html": [
       "<div>\n",
       "<style scoped>\n",
       "    .dataframe tbody tr th:only-of-type {\n",
       "        vertical-align: middle;\n",
       "    }\n",
       "\n",
       "    .dataframe tbody tr th {\n",
       "        vertical-align: top;\n",
       "    }\n",
       "\n",
       "    .dataframe thead th {\n",
       "        text-align: right;\n",
       "    }\n",
       "</style>\n",
       "<table border=\"1\" class=\"dataframe\">\n",
       "  <thead>\n",
       "    <tr style=\"text-align: right;\">\n",
       "      <th></th>\n",
       "      <th>Logit</th>\n",
       "    </tr>\n",
       "  </thead>\n",
       "  <tbody>\n",
       "    <tr>\n",
       "      <th>accuracy</th>\n",
       "      <td>0.9008</td>\n",
       "    </tr>\n",
       "  </tbody>\n",
       "</table>\n",
       "</div>"
      ],
      "text/plain": [
       "           Logit\n",
       "accuracy  0.9008"
      ]
     },
     "execution_count": 35,
     "metadata": {},
     "output_type": "execute_result"
    }
   ],
   "source": [
    "metrics"
   ]
  },
  {
   "cell_type": "markdown",
   "id": "adb4f622",
   "metadata": {},
   "source": [
    "<h4>Видим, что результат получился хорошим</h4>"
   ]
  },
  {
   "cell_type": "markdown",
   "id": "00a76d76",
   "metadata": {},
   "source": [
    "<h4>Проанализируем важность признаков</h4>"
   ]
  },
  {
   "cell_type": "code",
   "execution_count": 36,
   "id": "c44c9fc9",
   "metadata": {},
   "outputs": [],
   "source": [
    "def visualize_coefficients(classifier, feature_names, n_top_features=25):\n",
    "    # get coefficients with large absolute values\n",
    "    coef = classifier.coef_.ravel()\n",
    "    positive_coefficients = np.argsort(coef)[-n_top_features:]\n",
    "    negative_coefficients = np.argsort(coef)[:n_top_features]\n",
    "    interesting_coefficients = np.hstack([negative_coefficients, positive_coefficients])\n",
    "    # plot them\n",
    "    plt.figure(figsize=(15, 5))\n",
    "    colors = [\"red\" if c < 0 else \"blue\" for c in coef[interesting_coefficients]]\n",
    "    plt.bar(np.arange(2 * n_top_features), coef[interesting_coefficients], color=colors)\n",
    "    feature_names = np.array(feature_names)\n",
    "    plt.xticks(\n",
    "        np.arange(1, 1 + 2 * n_top_features),\n",
    "        feature_names[interesting_coefficients],\n",
    "        rotation=60,\n",
    "        ha=\"right\",\n",
    "    );"
   ]
  },
  {
   "cell_type": "code",
   "execution_count": 37,
   "id": "2a6a31f2",
   "metadata": {},
   "outputs": [
    {
     "data": {
      "image/png": "[encoded data removed]",
      "text/plain": [
       "<Figure size 1080x360 with 1 Axes>"
      ]
     },
     "metadata": {
      "needs_background": "light"
     },
     "output_type": "display_data"
    }
   ],
   "source": [
    "visualize_coefficients(logit, cv.get_feature_names())"
   ]
  },
  {
   "cell_type": "markdown",
   "id": "950e713d",
   "metadata": {},
   "source": [
    "### Обучим также Линейный SVM и Стохастический градиентный бустинг"
   ]
  },
  {
   "cell_type": "code",
   "execution_count": 38,
   "id": "03a390a1",
   "metadata": {},
   "outputs": [],
   "source": [
    "# Создадим функцию для обучения моделей и вывода результа\n",
    "def prediction(model,name_model, X_train,X_test, y_train,y_test):\n",
    "    model.fit(X_train, y_train)\n",
    "    metrics[name_model] = accuracy_score(y_test, model.predict(X_test))\n",
    "    print(f\"Accuracy score - {accuracy_score(y_test, model.predict(X_test))}\")"
   ]
  },
  {
   "cell_type": "code",
   "execution_count": 39,
   "id": "7ce8bab7",
   "metadata": {},
   "outputs": [
    {
     "name": "stdout",
     "output_type": "stream",
     "text": [
      "CPU times: user 4 µs, sys: 1 µs, total: 5 µs\n",
      "Wall time: 16.9 µs\n",
      "Accuracy score - 0.8941\n"
     ]
    }
   ],
   "source": [
    "%%time \n",
    "prediction(SGDClassifier(max_iter=500, random_state=RAND, n_jobs=-1),\n",
    "          'SGD',\n",
    "          X_train_sparse,\n",
    "          X_test_sparse,\n",
    "          y_train,\n",
    "          y_test)"
   ]
  },
  {
   "cell_type": "code",
   "execution_count": 40,
   "id": "8541c105",
   "metadata": {},
   "outputs": [
    {
     "name": "stdout",
     "output_type": "stream",
     "text": [
      "CPU times: user 4 µs, sys: 1 µs, total: 5 µs\n",
      "Wall time: 11.2 µs\n",
      "Accuracy score - 0.9026\n"
     ]
    }
   ],
   "source": [
    "%%time \n",
    "prediction(LinearSVC(random_state=RAND),\n",
    "          'LinearSVC',\n",
    "          X_train_sparse,\n",
    "          X_test_sparse,\n",
    "          y_train,\n",
    "          y_test)"
   ]
  },
  {
   "cell_type": "code",
   "execution_count": 43,
   "id": "4dc248fb",
   "metadata": {},
   "outputs": [
    {
     "data": {
      "text/html": [
       "<div>\n",
       "<style scoped>\n",
       "    .dataframe tbody tr th:only-of-type {\n",
       "        vertical-align: middle;\n",
       "    }\n",
       "\n",
       "    .dataframe tbody tr th {\n",
       "        vertical-align: top;\n",
       "    }\n",
       "\n",
       "    .dataframe thead th {\n",
       "        text-align: right;\n",
       "    }\n",
       "</style>\n",
       "<table border=\"1\" class=\"dataframe\">\n",
       "  <thead>\n",
       "    <tr style=\"text-align: right;\">\n",
       "      <th></th>\n",
       "      <th>Logit</th>\n",
       "      <th>SGD</th>\n",
       "      <th>LinearSVC</th>\n",
       "    </tr>\n",
       "  </thead>\n",
       "  <tbody>\n",
       "    <tr>\n",
       "      <th>accuracy</th>\n",
       "      <td>0.9008</td>\n",
       "      <td>0.8941</td>\n",
       "      <td>0.9026</td>\n",
       "    </tr>\n",
       "  </tbody>\n",
       "</table>\n",
       "</div>"
      ],
      "text/plain": [
       "           Logit     SGD  LinearSVC\n",
       "accuracy  0.9008  0.8941     0.9026"
      ]
     },
     "execution_count": 43,
     "metadata": {},
     "output_type": "execute_result"
    }
   ],
   "source": [
    "metrics"
   ]
  },
  {
   "cell_type": "markdown",
   "id": "a554efd2",
   "metadata": {},
   "source": [
    "### Мы видим, что лучший результат показал линейный SVM"
   ]
  },
  {
   "cell_type": "markdown",
   "id": "10211ca3",
   "metadata": {},
   "source": [
    "<a id='5_1'><h2>5. TF-IDF</h2></a>"
   ]
  },
  {
   "cell_type": "markdown",
   "id": "6ade44f1",
   "metadata": {},
   "source": [
    "#### Альтернативой является вычисление частот слов, и, безусловно, самый популярный метод называетсяTF-IDF, Это аббревиатура, что означает «Периодичность - обратный документЧастота, составляющая составляющие итоговой оценки, присваивается каждому слову.\n",
    "\n",
    "Срок Частота: Это суммирует, как часто данное слово появляется в документе.\n",
    "Частота обратных документов: Это уменьшает количество слов, которые часто встречаются в документах.\n",
    "Не вдаваясь в математику, TF-IDF являются показателями частоты слов, которые пытаются выделить слова, которые более интересны, например, часто в документе, но не в документах.\n",
    "\n",
    "TfidfVectorizerпроведет токенизацию документов, изучит словарный запас и весовые коэффициенты обратных документов и позволит вам кодировать новые документы."
   ]
  },
  {
   "cell_type": "code",
   "execution_count": 53,
   "id": "92b7494d",
   "metadata": {},
   "outputs": [],
   "source": [
    "text_pipe_logit = make_pipeline(TfidfVectorizer(ngram_range=(1,2)), \n",
    "                                LogisticRegression(random_state=RAND, n_jobs=-1))"
   ]
  },
  {
   "cell_type": "code",
   "execution_count": 54,
   "id": "5d3af3e3",
   "metadata": {},
   "outputs": [
    {
     "name": "stdout",
     "output_type": "stream",
     "text": [
      "0.8968\n"
     ]
    }
   ],
   "source": [
    "text_pipe_logit.fit(X_train, y_train)\n",
    "metrics[name_model] = \n",
    "print(text_pipe_logit.score(X_test, y_test))"
   ]
  },
  {
   "cell_type": "code",
   "execution_count": 15,
   "id": "943bc7ba",
   "metadata": {},
   "outputs": [],
   "source": [
    "text_pipe_SVM = make_pipeline(TfidfVectorizer(), \n",
    "                                LinearSVC(random_state=RAND))"
   ]
  },
  {
   "cell_type": "code",
   "execution_count": 16,
   "id": "898e9e93",
   "metadata": {},
   "outputs": [
    {
     "name": "stdout",
     "output_type": "stream",
     "text": [
      "0.8995\n"
     ]
    }
   ],
   "source": [
    "text_pipe_SVM.fit(X_train, y_train)\n",
    "print(text_pipe_SVM.score(X_test, y_test))"
   ]
  },
  {
   "cell_type": "code",
   "execution_count": 42,
   "id": "fbfff937",
   "metadata": {},
   "outputs": [],
   "source": [
    "text_pipe_SGD = make_pipeline(TfidfVectorizer(), \n",
    "                                SGDClassifier(loss='log',random_state=RAND))"
   ]
  },
  {
   "cell_type": "code",
   "execution_count": 43,
   "id": "328fb14a",
   "metadata": {},
   "outputs": [
    {
     "name": "stdout",
     "output_type": "stream",
     "text": [
      "0.886\n"
     ]
    }
   ],
   "source": [
    "text_pipe_SGD.fit(X_train, y_train)\n",
    "print(text_pipe_SGD.score(X_test, y_test))"
   ]
  },
  {
   "cell_type": "markdown",
   "id": "64f3e858",
   "metadata": {},
   "source": [
    "<a id='6_1'><h2>6. HashingVectorizer</h2></a>"
   ]
  },
  {
   "cell_type": "markdown",
   "id": "010e2457",
   "metadata": {},
   "source": [
    "### Подсчеты и частоты могут быть очень полезны, но одним из ограничений этих методов является то, что словарный запас может стать очень большим.\n",
    "\n",
    "Это, в свою очередь, потребует больших векторов для кодирования документов и налагает большие требования к памяти и замедляет алгоритмы.\n",
    "\n",
    "Умный обходной путь - использовать односторонний хэш слов, чтобы преобразовать их в целые числа. Умная часть заключается в том, что словарь не требуется, и вы можете выбрать произвольный длинный вектор фиксированной длины. Недостатком является то, что хеш является односторонней функцией, поэтому нет способа преобразовать кодировку обратно в слово (что может не иметь значения для многих контролируемых задач обучения).\n",
    "\n",
    "HashingVectorizer Класс реализует этот подход, который можно использовать для последовательного хеширования слов, а затем для токенизации и кодирования документов по мере необходимости."
   ]
  },
  {
   "cell_type": "code",
   "execution_count": 57,
   "id": "5f79ef19",
   "metadata": {},
   "outputs": [],
   "source": [
    "text_pipe_logit = make_pipeline(HashingVectorizer(), \n",
    "                                LogisticRegression(random_state=RAND, n_jobs=-1))"
   ]
  },
  {
   "cell_type": "code",
   "execution_count": 58,
   "id": "5962e12c",
   "metadata": {},
   "outputs": [
    {
     "name": "stdout",
     "output_type": "stream",
     "text": [
      "0.8881\n"
     ]
    }
   ],
   "source": [
    "text_pipe_logit.fit(X_train, y_train)\n",
    "print(text_pipe_logit.score(X_test, y_test))"
   ]
  },
  {
   "cell_type": "code",
   "execution_count": 59,
   "id": "c99f945b",
   "metadata": {},
   "outputs": [],
   "source": [
    "text_pipe_SVM = make_pipeline(HashingVectorizer(), \n",
    "                                LinearSVC(random_state=RAND))"
   ]
  },
  {
   "cell_type": "code",
   "execution_count": 60,
   "id": "c173a041",
   "metadata": {},
   "outputs": [
    {
     "name": "stdout",
     "output_type": "stream",
     "text": [
      "0.8975\n"
     ]
    }
   ],
   "source": [
    "text_pipe_SVM.fit(X_train, y_train)\n",
    "print(text_pipe_SVM.score(X_test, y_test))"
   ]
  },
  {
   "cell_type": "code",
   "execution_count": 61,
   "id": "30246a78",
   "metadata": {},
   "outputs": [],
   "source": [
    "text_pipe_SGD = make_pipeline(HashingVectorizer(), \n",
    "                                SGDClassifier(loss='log',random_state=RAND))"
   ]
  },
  {
   "cell_type": "code",
   "execution_count": 62,
   "id": "5fa4ab55",
   "metadata": {},
   "outputs": [
    {
     "name": "stdout",
     "output_type": "stream",
     "text": [
      "0.8739\n"
     ]
    }
   ],
   "source": [
    "text_pipe_SGD.fit(X_train, y_train)\n",
    "print(text_pipe_SGD.score(X_test, y_test))"
   ]
  }
 ],
 "metadata": {
  "kernelspec": {
   "display_name": "Python 3 (ipykernel)",
   "language": "python",
   "name": "python3"
  },
  "language_info": {
   "codemirror_mode": {
    "name": "ipython",
    "version": 3
   },
   "file_extension": ".py",
   "mimetype": "text/x-python",
   "name": "python",
   "nbconvert_exporter": "python",
   "pygments_lexer": "ipython3",
   "version": "3.8.8"
  }
 },
 "nbformat": 4,
 "nbformat_minor": 5
}
